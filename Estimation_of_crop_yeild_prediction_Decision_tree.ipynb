{
  "nbformat": 4,
  "nbformat_minor": 0,
  "metadata": {
    "colab": {
      "provenance": []
    },
    "kernelspec": {
      "name": "python3",
      "display_name": "Python 3"
    },
    "language_info": {
      "name": "python"
    }
  },
  "cells": [
    {
      "cell_type": "code",
      "source": [
        "import numpy as np\n",
        "import matplotlib.pyplot as plt\n",
        "import pandas as pd\n",
        "from sklearn.metrics import r2_score,mean_squared_error\n",
        "from sklearn.model_selection import train_test_split\n",
        "import math\n",
        "from sklearn.tree import DecisionTreeRegressor\n",
        "\n",
        "dataset = pd.read_csv(\"/content/CROPYELID.csv\")\n",
        "dataset.head()\n",
        "\n",
        "X = dataset.iloc[:, 1:2].values\n",
        "y = dataset.iloc[:, -1].values\n",
        "\n",
        "X_train, X_test, y_train, y_test = train_test_split(X,y,test_size =0.2, random_state=22)\n",
        "regressor = DecisionTreeRegressor(random_state =0)\n",
        "regressor.fit(X_train, y_train)\n",
        "y_pred = regressor.predict(X_test)\n",
        "acc = r2_score(y_test, y_pred)\n",
        "mae = mean_squared_error(y_test, y_pred)\n",
        "rmse = math.sqrt(mae)\n",
        "print(\"Accuracy:\",acc)\n",
        "print(\"meansquarederror:\",mae)\n",
        "print(\"rmse:\",rmse)"
      ],
      "metadata": {
        "id": "lEy9CPK9epgw",
        "colab": {
          "base_uri": "https://localhost:8080/"
        },
        "outputId": "2c1ae7a5-b1c1-4999-890e-80cea9e5d890"
      },
      "execution_count": null,
      "outputs": [
        {
          "output_type": "stream",
          "name": "stdout",
          "text": [
            "Accuracy: 0.8983368784900604\n",
            "meansquarederror: 0.4658077148683546\n",
            "rmse: 0.682501073162786\n"
          ]
        }
      ]
    }
  ]
}